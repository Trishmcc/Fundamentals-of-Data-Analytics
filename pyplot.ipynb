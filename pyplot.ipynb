{
 "cells": [
  {
   "cell_type": "markdown",
   "id": "cf6f46b9-b57b-4e64-85c7-38db8f532048",
   "metadata": {},
   "source": [
    "# Overview of the matplotlib.pyplot Python package\n",
    "\n",
    "[Official Documentation](https://matplotlib.org/stable/api/_as_gen/matplotlib.pyplot.html)\n",
    "    \n",
    "***"
   ]
  },
  {
   "cell_type": "code",
   "execution_count": 8,
   "id": "9211def7-cf47-4654-8a24-0b24ab335929",
   "metadata": {},
   "outputs": [],
   "source": [
    "import numpy as np\n",
    "\n",
    "import matplotlib.pyplot as plt"
   ]
  },
  {
   "cell_type": "markdown",
   "id": "b4f47ebf-fd45-4965-a0c4-df87bc5636d4",
   "metadata": {},
   "source": [
    "## Overview"
   ]
  },
  {
   "cell_type": "markdown",
   "id": "51fead3c-22a8-4fb0-a09e-3b35501f3e96",
   "metadata": {},
   "source": [
    "matplotlib.pyplot is a Python package with a collection of functions that allows you to create static, animated, and interactive visualizations.[1] Each pyplot function modifies a figure like potting lines, adding labels ect. Visual design and layout can be customized. It also has a numeriacla extension called Numpy.[2]\n",
    "\n",
    "Seaborn is a matplotlib-based Python data visualization package. It has a high-level interface for creating visually appealing and instructive statistics graphs. It integrates with pandas data structures.[3]"
   ]
  },
  {
   "cell_type": "markdown",
   "id": "e7475c89-910d-4929-8de1-2aeaa986d8ce",
   "metadata": {},
   "source": [
    "## Three plots explained from matplotlib.pyplot"
   ]
  },
  {
   "cell_type": "code",
   "execution_count": null,
   "id": "1d4bdddc-d78f-4ff7-8ae2-c685c71fe7ba",
   "metadata": {},
   "outputs": [],
   "source": []
  },
  {
   "cell_type": "code",
   "execution_count": null,
   "id": "8498890e-ca60-4d81-86e7-a31cc20451a4",
   "metadata": {},
   "outputs": [],
   "source": []
  },
  {
   "cell_type": "code",
   "execution_count": null,
   "id": "ab7b527b-7f94-4b20-b791-31c85e70fbb5",
   "metadata": {},
   "outputs": [],
   "source": []
  },
  {
   "cell_type": "markdown",
   "id": "e81a1e53-af22-41d9-a8af-89c175c7b5f1",
   "metadata": {},
   "source": [
    "# References\n",
    "\n",
    "1. https://matplotlib.org/stable/tutorials/introductory/pyplot.html \n",
    "2. https://matplotlib.org/\n",
    "3. https://seaborn.pydata.org/\n",
    "https://realpython.com/python-matplotlib-guide/\n"
   ]
  }
 ],
 "metadata": {
  "kernelspec": {
   "display_name": "Python 3",
   "language": "python",
   "name": "python3"
  },
  "language_info": {
   "codemirror_mode": {
    "name": "ipython",
    "version": 3
   },
   "file_extension": ".py",
   "mimetype": "text/x-python",
   "name": "python",
   "nbconvert_exporter": "python",
   "pygments_lexer": "ipython3",
   "version": "3.8.8"
  }
 },
 "nbformat": 4,
 "nbformat_minor": 5
}
